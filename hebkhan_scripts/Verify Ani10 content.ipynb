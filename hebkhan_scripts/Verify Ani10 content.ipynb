{
 "metadata": {
  "name": ""
 },
 "nbformat": 3,
 "nbformat_minor": 0,
 "worksheets": [
  {
   "cells": [
    {
     "cell_type": "code",
     "collapsed": true,
     "input": [
      "from mining import init_remote_api, batch_iter\n",
      "init_remote_api(\"hebkhan\")\n",
      "\n",
      "from google.appengine.ext import db\n",
      "import models\n",
      "\n",
      "\n"
     ],
     "language": "python",
     "metadata": {},
     "outputs": [
      {
       "output_type": "stream",
       "stream": "stderr",
       "text": [
        "WARNING:root:webapp2_extras.local is not available so webapp2 won't be thread-safe!\n"
       ]
      }
     ],
     "prompt_number": 1
    },
    {
     "cell_type": "code",
     "collapsed": false,
     "input": [
      "all_vids = list(batch_iter(models.Video.all()))"
     ],
     "language": "python",
     "metadata": {},
     "outputs": [
      {
       "output_type": "stream",
       "stream": "stdout",
       "text": [
        "Batch 1000 :\n",
        "Batch"
       ]
      },
      {
       "output_type": "stream",
       "stream": "stdout",
       "text": [
        " 1000 :\n",
        "Batch"
       ]
      },
      {
       "output_type": "stream",
       "stream": "stdout",
       "text": [
        " 1000 :\n",
        "Batch"
       ]
      },
      {
       "output_type": "stream",
       "stream": "stdout",
       "text": [
        " 455 :\n"
       ]
      }
     ],
     "prompt_number": 2
    },
    {
     "cell_type": "code",
     "collapsed": false,
     "input": [
      "import make_topics_json as mj\n",
      "merged_catalog_videos = {v['youtube_id']:v for v in mj.get_videos()}"
     ],
     "language": "python",
     "metadata": {},
     "outputs": [],
     "prompt_number": "*"
    },
    {
     "cell_type": "code",
     "collapsed": false,
     "input": [
      "missing_from_app = set(merged_catalog_videos) - set(v.youtube_id for v in all_vids)"
     ],
     "language": "python",
     "metadata": {},
     "outputs": [
      {
       "metadata": {},
       "output_type": "pyout",
       "prompt_number": 6,
       "text": [
        "{u'ZfkYX8Zfco', 'x6xSKV2AQbM', u'xmjy-0TxgI8', u'xz17IIVXFD'}"
       ]
      }
     ],
     "prompt_number": 6
    },
    {
     "cell_type": "code",
     "collapsed": false,
     "input": [
      "import csv\n",
      "r=csv.reader(open(\"../offline/ani10.csv\"))\n",
      "from collections import namedtuple\n",
      "V = namedtuple(\"V\", next(r))\n",
      "ani10 = {v.youtube.partition(\"?v=\")[-1][:11]:v for v in (V(*row) for row in r)}\n",
      "missing = [ani10[k] for k in (set(ani10) - set(merged_catalog_videos))]\n",
      "for i in sorted(missing, key=lambda v:v.title):\n",
      "    print i.title"
     ],
     "language": "python",
     "metadata": {},
     "outputs": [
      {
       "ename": "NameError",
       "evalue": "name 'merged_catalog_videos' is not defined",
       "output_type": "pyerr",
       "traceback": [
        "\u001b[1;31m---------------------------------------------------------------------------\u001b[0m\n\u001b[1;31mNameError\u001b[0m                                 Traceback (most recent call last)",
        "\u001b[1;32m<ipython-input-5-4c0242631a03>\u001b[0m in \u001b[0;36m<module>\u001b[1;34m()\u001b[0m\n\u001b[0;32m      4\u001b[0m \u001b[0mV\u001b[0m \u001b[1;33m=\u001b[0m \u001b[0mnamedtuple\u001b[0m\u001b[1;33m(\u001b[0m\u001b[1;34m\"V\"\u001b[0m\u001b[1;33m,\u001b[0m \u001b[0mnext\u001b[0m\u001b[1;33m(\u001b[0m\u001b[0mr\u001b[0m\u001b[1;33m)\u001b[0m\u001b[1;33m)\u001b[0m\u001b[1;33m\u001b[0m\u001b[0m\n\u001b[0;32m      5\u001b[0m \u001b[0mani10\u001b[0m \u001b[1;33m=\u001b[0m \u001b[1;33m{\u001b[0m\u001b[0mv\u001b[0m\u001b[1;33m.\u001b[0m\u001b[0myoutube\u001b[0m\u001b[1;33m.\u001b[0m\u001b[0mpartition\u001b[0m\u001b[1;33m(\u001b[0m\u001b[1;34m\"?v=\"\u001b[0m\u001b[1;33m)\u001b[0m\u001b[1;33m[\u001b[0m\u001b[1;33m-\u001b[0m\u001b[1;36m1\u001b[0m\u001b[1;33m]\u001b[0m\u001b[1;33m[\u001b[0m\u001b[1;33m:\u001b[0m\u001b[1;36m11\u001b[0m\u001b[1;33m]\u001b[0m\u001b[1;33m:\u001b[0m\u001b[0mv\u001b[0m \u001b[1;32mfor\u001b[0m \u001b[0mv\u001b[0m \u001b[1;32min\u001b[0m \u001b[1;33m(\u001b[0m\u001b[0mV\u001b[0m\u001b[1;33m(\u001b[0m\u001b[1;33m*\u001b[0m\u001b[0mrow\u001b[0m\u001b[1;33m)\u001b[0m \u001b[1;32mfor\u001b[0m \u001b[0mrow\u001b[0m \u001b[1;32min\u001b[0m \u001b[0mr\u001b[0m\u001b[1;33m)\u001b[0m\u001b[1;33m}\u001b[0m\u001b[1;33m\u001b[0m\u001b[0m\n\u001b[1;32m----> 6\u001b[1;33m \u001b[0mmissing\u001b[0m \u001b[1;33m=\u001b[0m \u001b[1;33m[\u001b[0m\u001b[0mani10\u001b[0m\u001b[1;33m[\u001b[0m\u001b[0mk\u001b[0m\u001b[1;33m]\u001b[0m \u001b[1;32mfor\u001b[0m \u001b[0mk\u001b[0m \u001b[1;32min\u001b[0m \u001b[1;33m(\u001b[0m\u001b[0mset\u001b[0m\u001b[1;33m(\u001b[0m\u001b[0mani10\u001b[0m\u001b[1;33m)\u001b[0m \u001b[1;33m-\u001b[0m \u001b[0mset\u001b[0m\u001b[1;33m(\u001b[0m\u001b[0mmerged_catalog_videos\u001b[0m\u001b[1;33m)\u001b[0m\u001b[1;33m)\u001b[0m\u001b[1;33m]\u001b[0m\u001b[1;33m\u001b[0m\u001b[0m\n\u001b[0m\u001b[0;32m      7\u001b[0m \u001b[1;32mfor\u001b[0m \u001b[0mi\u001b[0m \u001b[1;32min\u001b[0m \u001b[0msorted\u001b[0m\u001b[1;33m(\u001b[0m\u001b[0mmissing\u001b[0m\u001b[1;33m,\u001b[0m \u001b[0mkey\u001b[0m\u001b[1;33m=\u001b[0m\u001b[1;32mlambda\u001b[0m \u001b[0mv\u001b[0m\u001b[1;33m:\u001b[0m\u001b[0mv\u001b[0m\u001b[1;33m.\u001b[0m\u001b[0mtitle\u001b[0m\u001b[1;33m)\u001b[0m\u001b[1;33m:\u001b[0m\u001b[1;33m\u001b[0m\u001b[0m\n\u001b[0;32m      8\u001b[0m     \u001b[1;32mprint\u001b[0m \u001b[0mi\u001b[0m\u001b[1;33m.\u001b[0m\u001b[0mtitle\u001b[0m\u001b[1;33m\u001b[0m\u001b[0m\n",
        "\u001b[1;31mNameError\u001b[0m: name 'merged_catalog_videos' is not defined"
       ]
      }
     ],
     "prompt_number": 5
    },
    {
     "cell_type": "code",
     "collapsed": false,
     "input": [
      "len(missing)"
     ],
     "language": "python",
     "metadata": {},
     "outputs": [
      {
       "ename": "NameError",
       "evalue": "name 'missing' is not defined",
       "output_type": "pyerr",
       "traceback": [
        "\u001b[1;31m---------------------------------------------------------------------------\u001b[0m\n\u001b[1;31mNameError\u001b[0m                                 Traceback (most recent call last)",
        "\u001b[1;32m<ipython-input-1-54c12085f4e5>\u001b[0m in \u001b[0;36m<module>\u001b[1;34m()\u001b[0m\n\u001b[1;32m----> 1\u001b[1;33m \u001b[0mlen\u001b[0m\u001b[1;33m(\u001b[0m\u001b[0mmissing\u001b[0m\u001b[1;33m)\u001b[0m\u001b[1;33m\u001b[0m\u001b[0m\n\u001b[0m",
        "\u001b[1;31mNameError\u001b[0m: name 'missing' is not defined"
       ]
      }
     ],
     "prompt_number": 1
    },
    {
     "cell_type": "code",
     "collapsed": false,
     "input": [
      "i = 0\n",
      "for v in all_vids:\n",
      "    mv = merged_catalog_videos.get(v.youtube_id)\n",
      "    if not mv:\n",
      "        continue\n",
      "    if v.source != \"ani10\":\n",
      "        continue\n",
      "    print\n",
      "    print v.readable_id\n",
      "    print \">\", v.description\n",
      "    print \"<\", mv['description']\n",
      "    i += 1\n",
      "    if i> 10:\n",
      "        break"
     ],
     "language": "python",
     "metadata": {},
     "outputs": [
      {
       "output_type": "stream",
       "stream": "stdout",
       "text": [
        "\n",
        "math--4th-grade--geometry-and-measurements--sizes-and-measurement--l354\n",
        "> \u05e9\u05e8\u05d8\u05d5\u05d8 \u05de\u05d7\u05d5\u05d2 \u05d4\u05e9\u05e2\u05d5\u05ea \u05d5\u05d4\u05d3\u05e7\u05d5\u05ea \u05dc\u05e4\u05d9 \u05d4\u05e0\u05ea\u05d5\u05e0\u05d9\u05dd\n",
        "\u05de\u05d1\u05d7\u05e0\u05d9\u05dd \u05d1\u05d2\u05d0\u05d5\u05de\u05d8\u05e8\u05d9\u05d4\n",
        "\u05db\u05d9\u05ea\u05d4 \u05d3 - \u05d2\u05d9\u05d0\u05d5\u05de\u05d8\u05e8\u05d9\u05d4 \u05de\u05d9\u05e6\u05d1 - \u05e9\u05d9\u05e2\u05d5\u05e8 10 - \u05d4\u05e9\u05e2\u05d5\u05df\n",
        "< \u05e9\u05e8\u05d8\u05d5\u05d8 \u05de\u05d7\u05d5\u05d2 \u05d4\u05e9\u05e2\u05d5\u05ea \u05d5\u05d4\u05d3\u05e7\u05d5\u05ea \u05dc\u05e4\u05d9 \u05d4\u05e0\u05ea\u05d5\u05e0\u05d9\u05dd\n",
        "\n",
        "math--4th-grade--word-problem--misc-challenge--l328\n",
        "> \u05e9\u05d0\u05dc\u05d4 \u05de\u05d9\u05dc\u05d5\u05dc\u05d9\u05ea \u05d1\u05e0\u05d5\u05e9\u05d0: \u05db\u05e4\u05dc \u05de\u05e1\u05e4\u05e8\u05d9\u05dd \u05e9\u05dc\u05de\u05d9\u05dd.\n",
        "\u05de\u05d1\u05d7\u05e0\u05d9\u05dd \u05d1\u05d7\u05e9\u05d1\u05d5\u05df\n",
        "\u05db\u05d9\u05ea\u05d4 \u05d3 - \u05e9\u05d9\u05e2\u05d5\u05e8 19 \u05d1 - \u05de\u05d9\u05e6''\u05d1 - \u05e9\u05d0\u05dc\u05d4 \u05de\u05d9\u05dc\u05d5\u05dc\u05d9\u05ea\n",
        "< \u05e0\u05e4\u05ea\u05d5\u05e8 \u05e9\u05d0\u05dc\u05d4 \u05de\u05d9\u05dc\u05d5\u05dc\u05d9\u05ea \u05d5\u05e0\u05e1\u05d1\u05d9\u05e8 \u05d0\u05ea \u05d3\u05e8\u05da \u05d4\u05e4\u05ea\u05e8\u05d5\u05df\n",
        "\n",
        "math--4th-grade--natural-numbers--number-order--l213\n",
        "> \u05ea\u05e8\u05d2\u05d9\u05dc\u05d9\u05dd \u05d1\u05e0\u05d5\u05e9\u05d0: \u05de\u05e6\u05d9\u05d0\u05ea \u05d4\u05e4\u05e8\u05e9 \u05d4\u05e1\u05d3\u05e8\u05d4 \u05d5\u05d0\u05d9\u05d1\u05e8\u05d9\u05d4.\n",
        "\u05e9\u05d9\u05e2\u05d5\u05e8\u05d9 \u05d7\u05e9\u05d1\u05d5\u05df\n",
        "\u05db\u05d9\u05ea\u05d4 \u05d3 - \u05de\u05d1\u05d7\u05df \u05de\u05d9\u05e6\u05d1 - \u05e9\u05d9\u05e2\u05d5\u05e8 07 \u05d2' - \u05e1\u05d3\u05e8\u05d5\u05ea\n",
        "< \u05e0\u05dc\u05de\u05d3 \u05dc\u05de\u05e6\u05d5\u05d0 \u05d0\u05ea \u05d4\u05e4\u05e8\u05e9 \u05d4\u05e1\u05d3\u05e8\u05d4\n",
        "\n",
        "math--4th-grade--natural-numbers--number-order--l215\n",
        "> \u05ea\u05e8\u05d2\u05d9\u05dc\u05d9\u05dd \u05d1\u05e0\u05d5\u05e9\u05d0: \u05de\u05e6\u05d9\u05d0\u05ea \u05de\u05e1\u05e4\u05e8\u05d9\u05dd \u05d7\u05e1\u05e8\u05d9\u05dd \u05e2\u05dc \u05d9\u05e9\u05e8 \u05d4\u05de\u05e1\u05e4\u05e8\u05d9\u05dd.\n",
        "\u05e9\u05d9\u05e2\u05d5\u05e8\u05d9 \u05d7\u05e9\u05d1\u05d5\u05df\n",
        "\u05db\u05d9\u05ea\u05d4 \u05d3 - \u05e9\u05d9\u05e2\u05d5\u05e8 01 \u05d1 - \u05de\u05d1\u05d7\u05df \u05de\u05d9\u05e6\u05d1 - \u05d9\u05e9\u05e8 \u05d4\u05de\u05e1\u05e4\u05e8\u05d9\u05dd\n",
        "< \u05e0\u05de\u05e6\u05d0 \u05de\u05d4\u05d5 \u05d4\u05de\u05e8\u05d7\u05e7 \u05d1\u05d9\u05df 2 \u05d4\u05de\u05e1\u05e4\u05e8\u05d9\u05dd \u05e2\u05dc \u05d4\u05d9\u05e9\u05e8 \u05e0\u05d7\u05dc\u05e7 \u05d0\u05ea \u05d4\u05de\u05e8\u05d7\u05e7 \u05d1\u05de\u05e1\u05e4\u05e8 \u05d4\u05d3\u05d9\u05dc\u05d5\u05d2\u05d9\u05dd\n",
        "\n",
        "math--4th-grade--powers--introduction-to-exponents--l293\n",
        "> \u05e9\u05d9\u05e2\u05d5\u05e8 \u05d4\u05e7\u05d3\u05de\u05d4 \u05d1\u05e0\u05d5\u05e9\u05d0 \u05d7\u05d6\u05e7\u05d5\u05ea. \u05ea\u05e8\u05d2\u05d9\u05dc\u05d9\u05dd \u05d1\u05e0\u05d5\u05e9\u05d0: \u05d4\u05e2\u05dc\u05d0\u05d4 \u05d1\u05d7\u05d6\u05e7\u05d4\n",
        "\u05e9\u05d9\u05e2\u05d5\u05e8\u05d9 \u05d7\u05e9\u05d1\u05d5\u05df\n",
        "\u05db\u05d9\u05ea\u05d4 \u05d3 - \u05e9\u05d9\u05e2\u05d5\u05e8 43 - \u05d7\u05d6\u05e7\u05d5\u05ea - \u05d4\u05e1\u05d1\u05e8\n",
        "< \u05e9\u05d9\u05e2\u05d5\u05e8 \u05d4\u05e7\u05d3\u05de\u05d4 \u05d1\u05e0\u05d5\u05e9\u05d0 \u05d7\u05d6\u05e7\u05d5\u05ea. \u05e0\u05e1\u05d1\u05d9\u05e8 \u05d0\u05ea \u05e4\u05e2\u05d5\u05dc\u05ea \u05d4\u05d4\u05e2\u05dc\u05d0\u05d4 \u05d1\u05d7\u05d6\u05e7\u05d4, \u05d0\u05ea \u05de\u05e9\u05de\u05e2\u05d5\u05ea \u05d4\u05de\u05d5\u05e0\u05d7 \u05d1\u05e1\u05d9\u05e1 \u05d4\u05d7\u05d6\u05e7\u05d4 \u05d5\u05de\u05e2\u05e8\u05d9\u05da \u05d4\u05d7\u05d6\u05e7\u05d4 \u05d5\u05e0\u05e4\u05ea\u05d5\u05e8 \u05ea\u05e8\u05d2\u05d9\u05dc\u05d9\u05dd \u05d1\u05e0\u05d5\u05e9\u05d0.\n",
        "\n",
        "math--4th-grade--unlimited-addition-and-subtraction--l231\n",
        "> \u05e0\u05dc\u05de\u05d3 \u05dc\u05e4\u05ea\u05d5\u05e8 \u05e9\u05d0\u05dc\u05d5\u05ea \u05de\u05d9\u05dc\u05d5\u05dc\u05d9\u05d5\u05ea \u05d1\u05e2\u05d6\u05e8\u05ea \u05e6\u05d9\u05d5\u05e8\u05d9\u05dd  \u05e9\u05d9\u05e2\u05d6\u05e8\u05d5 \u05dc\u05e0\u05d5 \u05dc\u05d4\u05d1\u05d9\u05df \u05d0\u05ea \u05d4\u05e0\u05ea\u05d5\u05e0\u05d9\u05dd \u05d5\u05d0\u05ea \u05d3\u05e8\u05db\u05d9 \u05d4\u05e4\u05ea\u05e8\u05d5\u05df.\n",
        "\u05e9\u05d9\u05e2\u05d5\u05e8\u05d9 \u05d7\u05e9\u05d1\u05d5\u05df\n",
        "\u05db\u05d9\u05ea\u05d4 \u05d3 - \u05e9\u05d9\u05e2\u05d5\u05e8 12\u05d1 - \u05d4\u05de\u05e9\u05da \u05e9\u05d0\u05dc\u05d5\u05ea \u05de\u05d9\u05dc\u05d5\u05dc\u05d9\u05d5\u05ea \u05d1\u05d7\u05d9\u05d1\u05d5\u05e8\n",
        "< \u05e0\u05dc\u05de\u05d3 \u05dc\u05e4\u05ea\u05d5\u05e8 \u05e9\u05d0\u05dc\u05d5\u05ea \u05de\u05d9\u05dc\u05d5\u05dc\u05d9\u05d5\u05ea \u05d1\u05e2\u05d6\u05e8\u05ea \u05e6\u05d9\u05d5\u05e8\u05d9\u05dd  \u05e9\u05d9\u05e2\u05d6\u05e8\u05d5 \u05dc\u05e0\u05d5 \u05dc\u05d4\u05d1\u05d9\u05df \u05d0\u05ea \u05d4\u05e0\u05ea\u05d5\u05e0\u05d9\u05dd \u05d5\u05d0\u05ea \u05d3\u05e8\u05db\u05d9 \u05d4\u05e4\u05ea\u05e8\u05d5\u05df.\n",
        "\n",
        "math--4th-grade--reading-data--diagrams--l297\n",
        "> \u05e9\u05d0\u05dc\u05d4 \u05d1\u05e0\u05d5\u05e9\u05d0: \u05d3\u05d9\u05d0\u05d2\u05e8\u05de\u05ea \u05e2\u05d9\u05d2\u05d5\u05dc \n",
        "\u05e9\u05d9\u05e2\u05d5\u05e8\u05d9 \u05d7\u05e9\u05d1\u05d5\u05df\n",
        "\u05db\u05d9\u05ea\u05d4 \u05d3 - \u05e9\u05d9\u05e2\u05d5\u05e8 47 - \u05d3\u05d9\u05d0\u05d2\u05e8\u05de\u05ea \u05e2\u05d9\u05d2\u05d5\u05dc - \u05e8\u05e9\u05ea\u05d5\u05ea \u05e4\u05d9\u05e6\u05d4\n",
        "< \u05d3\u05d9\u05d0\u05d2\u05e8\u05de\u05ea \u05e2\u05d9\u05d2\u05d5\u05dc \u05de\u05e8\u05d0\u05d4 \u05dc\u05e0\u05d5 \u05d0\u05ea \u05d4\u05e0\u05ea\u05d5\u05e0\u05d9\u05dd \u05d4\u05de\u05e1\u05e4\u05e8\u05d9\u05d9\u05dd \u05d1\u05e6\u05d5\u05e8\u05d4 \u05d2\u05e8\u05e4\u05d9\u05ea\n",
        "\n",
        "math--4th-grade--multiplication-and-division-unlimited--l241\n",
        "> \u05ea\u05e8\u05d2\u05d9\u05dc\u05d9 \u05db\u05e4\u05dc \u05de\u05de\u05d1\u05d7\u05df \u05de\u05d9\u05e6''\u05d1\n",
        "\u05e9\u05d9\u05e2\u05d5\u05e8\u05d9 \u05d7\u05e9\u05d1\u05d5\u05df\n",
        "\u05db\u05d9\u05ea\u05d4 \u05d3 - \u05e9\u05d9\u05e2\u05d5\u05e8 18 \u05d1 - \u05de\u05d1\u05d7\u05df \u05de\u05d9\u05e6\u05d1 - \u05ea\u05e8\u05d2\u05d9\u05dc\u05d9 \u05db\u05e4\u05dc\n",
        "< \u05e0\u05e1\u05d1\u05d9\u05e8 \u05d0\u05ea \u05d4\u05d3\u05e8\u05da \u05e9\u05d1\u05d4 \u05e4\u05d5\u05ea\u05e8\u05d9\u05dd \u05ea\u05e8\u05d2\u05d9\u05dc\u05d9 \u05db\u05e4\u05dc \u05e9\u05e0\u05dc\u05e7\u05d7\u05d5 \u05de\u05de\u05d1\u05d7\u05df \u05de\u05d9\u05e6''\u05d1\n",
        "\n",
        "math--4th-grade--multiplication-and-division-unlimited--l257\n",
        "> \u05ea\u05e8\u05d2\u05d9\u05dc\u05d9\u05dd \u05d1\u05e0\u05d5\u05e9\u05d0: \u05d7\u05d5\u05e7 \u05d4\u05e4\u05d9\u05dc\u05d5\u05d2 \u05d1\u05db\u05e4\u05dc \u05d5\u05d1\u05d7\u05d9\u05dc\u05d5\u05e7 \n",
        "\u05e9\u05d9\u05e2\u05d5\u05e8\u05d9 \u05d7\u05e9\u05d1\u05d5\u05df\n",
        "\u05db\u05d9\u05ea\u05d4 \u05d3 - \u05e9\u05d9\u05e2\u05d5\u05e8 27 \u05d0 - \u05d7\u05d5\u05e7 \u05d4\u05e4\u05d9\u05dc\u05d5\u05d2 \u05d1\u05db\u05e4\u05dc \u05d5\u05d1\u05d7\u05d9\u05dc\u05d5\u05e7\n",
        "< \u05e0\u05dc\u05de\u05d3 \u05e2\u05dc \u05d7\u05d5\u05e7 \u05d4\u05e4\u05d9\u05dc\u05d5\u05d2 \u05d1\u05db\u05e4\u05dc \u05d5\u05d1\u05d7\u05d9\u05dc\u05d5\u05e7 \u05d5\u05d4\u05e9\u05d9\u05de\u05d5\u05e9 \u05d1\u05d4\u05dd \u05d1\u05e4\u05ea\u05d9\u05e8\u05ea \u05ea\u05e8\u05d2\u05d9\u05dc\u05d9\u05dd.\n",
        "\n",
        "math--4th-grade--geometry-and-measurements--triangles--l342\n",
        "> \u05de\u05e9\u05d5\u05dc\u05e9\u05d9\u05dd\n",
        "\u05de\u05d1\u05d7\u05e0\u05d9\u05dd \u05d1\u05d2\u05d0\u05d5\u05de\u05d8\u05e8\u05d9\u05d4\n",
        "\u05db\u05d9\u05ea\u05d4 \u05d3 - \u05de\u05d1\u05d7\u05df \u05de\u05d9\u05e6\u05d1 - \u05e9\u05d9\u05e2\u05d5\u05e8 05 - \u05de\u05e9\u05d5\u05dc\u05e9\u05d9\u05dd\n",
        "< \u05e0\u05e4\u05ea\u05d5\u05e8 \u05e9\u05d0\u05dc\u05d4 \u05de\u05de\u05d1\u05d7\u05df \u05de\u05d9\u05e6''\u05d1\n",
        "\n",
        "math--4th-grade--simple-fractions--l264\n",
        "> \u05d4\u05e1\u05d1\u05e8 \u05e2\u05dc \u05de\u05e9\u05de\u05e2\u05d5\u05ea \u05d4\u05de\u05d5\u05e0\u05d4 \u05d5\u05d4\u05de\u05db\u05e0\u05d4\n",
        "\u05e9\u05d9\u05e2\u05d5\u05e8\u05d9 \u05d7\u05e9\u05d1\u05d5\u05df\n",
        "\u05db\u05d9\u05ea\u05d4 \u05d3 - \u05e9\u05d9\u05e2\u05d5\u05e8 31 \u05d0 - \u05e9\u05d1\u05e8\u05d9\u05dd \u05e4\u05e9\u05d5\u05d8\u05d9\u05dd - \u05d4\u05e1\u05d1\u05e8\n",
        "< \u05e0\u05dc\u05de\u05d3 \u05d1\u05e2\u05d6\u05e8\u05ea \u05e6\u05d9\u05d5\u05e8\u05d9\u05dd \u05de\u05d4\u05d5 \u05e9\u05d1\u05e8 \u05d5\u05db\u05d9\u05e6\u05d3 \u05dc\u05d6\u05d4\u05d5\u05ea \u05d0\u05ea \u05d4\u05de\u05d5\u05e0\u05d4 \u05d5\u05d0\u05ea \u05d4\u05de\u05db\u05e0\u05d4 \u05d5\u05de\u05d4 \u05de\u05e9\u05de\u05e2\u05d5\u05ea \u05db\u05dc \u05d0\u05d7\u05d3 \u05de\u05d4\u05dd.\n"
       ]
      }
     ],
     "prompt_number": 17
    },
    {
     "cell_type": "code",
     "collapsed": false,
     "input": [],
     "language": "python",
     "metadata": {},
     "outputs": []
    }
   ],
   "metadata": {}
  }
 ]
}