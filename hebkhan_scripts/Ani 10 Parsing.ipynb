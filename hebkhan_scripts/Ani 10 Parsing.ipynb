{
 "metadata": {
  "name": "Ani 10 Parsing"
 },
 "nbformat": 3,
 "nbformat_minor": 0,
 "worksheets": [
  {
   "cells": [
    {
     "cell_type": "code",
     "collapsed": false,
     "input": [
      "from lxml.etree import ElementTree\n",
      "from csv import writer\n",
      "\n",
      "import urllib\n",
      "decode = lambda url: urllib.unquote(url)\n",
      "\n",
      "ani10 = ElementTree(file=open(\"./ani10.wordpress.2013-06-16.xml\"))\n",
      "ns = ani10.getroot().nsmap\n"
     ],
     "language": "python",
     "metadata": {},
     "outputs": [],
     "prompt_number": 256
    },
    {
     "cell_type": "code",
     "collapsed": true,
     "input": [
      "d = {}\n",
      "with open(\"ani10.csv\",\"w\") as f:\n",
      "    out = writer(f)\n",
      "    for i, y in enumerate(ani10.iter('item')):\n",
      "        def get(xp):\n",
      "            s = (y.xpath(xp, namespaces=ns) or [''])[0]\n",
      "            if s.count(\"%\")>3:\n",
      "                s = decode(s)\n",
      "            else:\n",
      "                s = \" \".join(s.encode(\"utf8\").strip().splitlines())\n",
      "            return s\n",
      "\n",
      "        data = dict(\n",
      "            post_id = get(\"wp:post_id/text()\"),\n",
      "            post_name = decode(get(\"wp:post_name/text()\")),\n",
      "            title = get(\"title/text()\"),\n",
      "            youtube = get(\"wp:postmeta/wp:meta_key[text()='youtube']/../wp:meta_value/text()\"),\n",
      "            class_number = get(\"wp:postmeta/wp:meta_key[text()='class_number']/../wp:meta_value/text()\"),\n",
      "            comment = get(\"excerpt:encoded/text()\"),\n",
      "            category = get(\"category[@domain='category']/text()\"),\n",
      "            category_id = get(\"category[@domain='category']/@nicename\"),\n",
      "            )\n",
      "        if i == 0:\n",
      "            keys = sorted(data)\n",
      "            out.writerow(keys)\n",
      "        \n",
      "        out.writerow([data[k] for k in keys])\n",
      "        d[data['post_id']] = data"
     ],
     "language": "python",
     "metadata": {},
     "outputs": [],
     "prompt_number": 257
    },
    {
     "cell_type": "code",
     "collapsed": false,
     "input": [
      "\"asgsdasd\".count(\"d\")"
     ],
     "language": "python",
     "metadata": {},
     "outputs": [
      {
       "output_type": "pyout",
       "prompt_number": 247,
       "text": [
        "2"
       ]
      }
     ],
     "prompt_number": 247
    }
   ],
   "metadata": {}
  }
 ]
}