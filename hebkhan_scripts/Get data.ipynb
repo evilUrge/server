{
 "metadata": {
  "name": ""
 },
 "nbformat": 3,
 "nbformat_minor": 0,
 "worksheets": [
  {
   "cells": [
    {
     "cell_type": "code",
     "collapsed": false,
     "input": [
      "from mining import init_remote_api, batch_iter\n",
      "init_remote_api(\"hebkhan\")\n",
      "\n",
      "from google.appengine.ext import db\n",
      "import models\n",
      "\n",
      "\n",
      "\n"
     ],
     "language": "python",
     "metadata": {},
     "outputs": [
      {
       "output_type": "stream",
       "stream": "stderr",
       "text": [
        "WARNING:root:webapp2_extras.local is not available so webapp2 won't be thread-safe!\n"
       ]
      }
     ],
     "prompt_number": 1
    },
    {
     "cell_type": "code",
     "collapsed": false,
     "input": [
      "users = list(batch_iter(models.UserData.all()))"
     ],
     "language": "python",
     "metadata": {},
     "outputs": [
      {
       "output_type": "stream",
       "stream": "stdout",
       "text": [
        "Batch 1000 :\n",
        "Batch"
       ]
      },
      {
       "output_type": "stream",
       "stream": "stdout",
       "text": [
        " 1000 :\n",
        "Batch"
       ]
      },
      {
       "output_type": "stream",
       "stream": "stdout",
       "text": [
        " 1000 :\n",
        "Batch"
       ]
      },
      {
       "output_type": "stream",
       "stream": "stdout",
       "text": [
        " 1000 :\n",
        "Batch"
       ]
      },
      {
       "output_type": "stream",
       "stream": "stdout",
       "text": [
        " 1000 :\n",
        "Batch"
       ]
      },
      {
       "output_type": "stream",
       "stream": "stdout",
       "text": [
        " 1000 :\n",
        "Batch"
       ]
      },
      {
       "output_type": "stream",
       "stream": "stdout",
       "text": [
        " 1000 :\n",
        "Batch"
       ]
      },
      {
       "output_type": "stream",
       "stream": "stdout",
       "text": [
        " 1000 :\n",
        "Batch"
       ]
      },
      {
       "output_type": "stream",
       "stream": "stdout",
       "text": [
        " 1000 :\n",
        "Batch"
       ]
      },
      {
       "output_type": "stream",
       "stream": "stdout",
       "text": [
        " 1000 :\n",
        "Batch"
       ]
      },
      {
       "output_type": "stream",
       "stream": "stdout",
       "text": [
        " 1000 :\n",
        "Batch"
       ]
      },
      {
       "output_type": "stream",
       "stream": "stdout",
       "text": [
        " 1000 :\n",
        "Batch"
       ]
      },
      {
       "output_type": "stream",
       "stream": "stdout",
       "text": [
        " 1000 :\n",
        "Batch"
       ]
      },
      {
       "output_type": "stream",
       "stream": "stdout",
       "text": [
        " 144 :\n"
       ]
      }
     ],
     "prompt_number": 23
    },
    {
     "cell_type": "code",
     "collapsed": false,
     "input": [
      "import md5\n",
      "keys = [\n",
      "\t('user_id', lambda x: md5.new(x).hexdigest().upper()[:8]),\n",
      "\t('total_seconds_watched', str),\n",
      "\t('last_activity', str),\n",
      "\t('badges', len),\n",
      "\t('all_proficient_exercises', len),\n",
      "\t('is_profile_public', str),\n",
      "\t('videos_completed', str),\n",
      "\t('last_login', str),\n",
      "\t('username', str),\n",
      "\t('coaches', len),\n",
      "\t('has_current_goals', str),\n",
      "\t('proficient_exercises', len),\n",
      "\t('joined', str),\n",
      "\t('points', str),\n",
      "]"
     ],
     "language": "python",
     "metadata": {},
     "outputs": [],
     "prompt_number": 45
    },
    {
     "cell_type": "code",
     "collapsed": false,
     "input": [
      "import csv\n",
      "with open(\"users.csv\",\"w\") as f:\n",
      "    writer = csv.writer(f)\n",
      "    writer.writerow([k for k,_ in keys])\n",
      "    for u in users:\n",
      "        writer.writerow([fn(getattr(u,k)) for k,fn in keys])\n"
     ],
     "language": "python",
     "metadata": {},
     "outputs": [],
     "prompt_number": 46
    }
   ],
   "metadata": {}
  }
 ]
}