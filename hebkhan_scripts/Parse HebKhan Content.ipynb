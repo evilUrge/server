{
 "metadata": {
  "name": "Parse HebKhan Content"
 },
 "nbformat": 3,
 "nbformat_minor": 0,
 "worksheets": [
  {
   "cells": [
    {
     "cell_type": "code",
     "collapsed": false,
     "input": [
      "import requests\n",
      "from csv import writer\n",
      "url = \"http://www.hebrewkhan.org/api/v1/topictree\"\n",
      "ret = requests.get(url)\n",
      "data = ret.json()\n"
     ],
     "language": "python",
     "metadata": {},
     "outputs": [],
     "prompt_number": 2
    },
    {
     "cell_type": "code",
     "collapsed": false,
     "input": [
      "class B(dict):\n",
      "    def __getattr__(self, attr):\n",
      "        return self.get(attr)\n",
      "class U(unicode):\n",
      "    def __repr__(self):\n",
      "        return \"'%s'\" % self.encode(\"utf8\")\n",
      "Y = lambda yt: \"http://www.youtube.com/watch?v=%s\" % yt if yt else \"\"\n",
      "U = lambda s: s.encode(\"utf8\") if s else \"\"\n",
      "\n",
      "def iter_tree(node, parents=[]):\n",
      "    node = B(node)\n",
      "    if node.kind == \"Video\":\n",
      "        node.id = node.readable_id\n",
      "        yield parents, node\n",
      "    elif node.kind == \"Exercise\":\n",
      "        node.id = node.name\n",
      "        yield parents, node\n",
      "\n",
      "    for child in (node.children or []):\n",
      "        for ret in iter_tree(child, parents = parents + [\" \".join(node.title.split())]):\n",
      "            yield ret\n",
      "\n",
      "with open(\"hebkhan.csv\",\"w\") as f:\n",
      "    csv = writer(f)\n",
      "    for i, (parents, item) in enumerate(iter_tree(data)):\n",
      "        csv.writerow((\n",
      "            i,\n",
      "            item.kind,\n",
      "            U(\"/\".join(parents[1:])),\n",
      "            U(item.id),\n",
      "            U(item.description),\n",
      "            Y(item.youtube_id),\n",
      "            Y(item.youtube_id_en),\n",
      "            item.translated or \"\"))\n",
      "        \n"
     ],
     "language": "python",
     "metadata": {},
     "outputs": [],
     "prompt_number": 58
    },
    {
     "cell_type": "code",
     "collapsed": false,
     "input": [
      "print item.readable_id"
     ],
     "language": "python",
     "metadata": {},
     "outputs": [
      {
       "output_type": "stream",
       "stream": "stdout",
       "text": [
        "\u05d4\u05d9\u05d5\u05e4\u05d9 \u05e9\u05d1\u05d0\u05dc\u05d2\u05d1\u05e8\u05d4\n"
       ]
      }
     ],
     "prompt_number": 57
    }
   ],
   "metadata": {}
  }
 ]
}