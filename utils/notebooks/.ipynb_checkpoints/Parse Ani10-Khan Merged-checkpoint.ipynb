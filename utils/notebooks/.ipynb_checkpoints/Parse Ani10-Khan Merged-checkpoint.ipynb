{
 "metadata": {
  "name": ""
 },
 "nbformat": 3,
 "nbformat_minor": 0,
 "worksheets": [
  {
   "cells": [
    {
     "cell_type": "code",
     "collapsed": false,
     "input": [
      "from csv import writer, reader\n",
      "import requests\n",
      "\n",
      "fn = \"ani10-khan-merged.csv\"\n",
      "with open(fn) as f:\n",
      "    csv = reader(f)\n",
      "    headers = next(csv)\n",
      "    from collections import namedtuple\n",
      "    Video = namedtuple(\"Video\", headers, rename=True)\n",
      "    videos = [Video(*rec) for rec in csv]"
     ],
     "language": "python",
     "metadata": {},
     "outputs": [],
     "prompt_number": 13
    },
    {
     "cell_type": "code",
     "collapsed": false,
     "input": [
      "v=videos[0]\n",
      "v.youtube"
     ],
     "language": "python",
     "metadata": {},
     "outputs": [
      {
       "metadata": {},
       "output_type": "pyout",
       "prompt_number": 16,
       "text": [
        "'http://www.youtube.com/watch?v=UHF8kEhc0O4'"
       ]
      }
     ],
     "prompt_number": 16
    }
   ],
   "metadata": {}
  }
 ]
}