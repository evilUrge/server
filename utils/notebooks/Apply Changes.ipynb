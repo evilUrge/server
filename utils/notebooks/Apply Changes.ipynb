{
 "metadata": {
  "name": ""
 },
 "nbformat": 3,
 "nbformat_minor": 0,
 "worksheets": [
  {
   "cells": [
    {
     "cell_type": "code",
     "collapsed": false,
     "input": [
      "import sys\n",
      "sys.path.append(\"/home/oferko/hebkhan/hebkhan_scripts\")\n",
      "sys.path.append(\"/home/oferko/hebkhan/offline/\")\n",
      "sys.path.append(\"/home/oferko/hebkhan/app/\")\n",
      "sys.path.append(\"/shared/google_appengine/\")\n",
      "sys.path.append(\"/shared/google_appengine/lib/webapp2-2.5.2/\")\n",
      "\n",
      "from mining import init_remote_api, batch_iter\n",
      "init_remote_api(\"hebkhan\")\n",
      "\n",
      "from google.appengine.ext import db\n",
      "import models\n",
      "\n",
      "\n",
      "\n",
      "\n"
     ],
     "language": "python",
     "metadata": {},
     "outputs": [],
     "prompt_number": 1
    },
    {
     "cell_type": "code",
     "collapsed": false,
     "input": [
      "d1={ex.name:ex for ex in batch_iter(models.Exercise.all_unsafe())}\n"
     ],
     "language": "python",
     "metadata": {},
     "outputs": [
      {
       "output_type": "stream",
       "stream": "stdout",
       "text": [
        "Batch 692 :\n"
       ]
      }
     ],
     "prompt_number": 40
    },
    {
     "cell_type": "code",
     "collapsed": false,
     "input": [
      "d2={ex.name:ex for ex in models.Exercise._get_all_use_cache_unsafe()}"
     ],
     "language": "python",
     "metadata": {},
     "outputs": [],
     "prompt_number": 49
    },
    {
     "cell_type": "code",
     "collapsed": false,
     "input": [
      "map(len, (d1,d2))"
     ],
     "language": "python",
     "metadata": {},
     "outputs": [
      {
       "metadata": {},
       "output_type": "pyout",
       "prompt_number": 50,
       "text": [
        "[689, 689]"
       ]
      }
     ],
     "prompt_number": 50
    },
    {
     "cell_type": "code",
     "collapsed": false,
     "input": [],
     "language": "python",
     "metadata": {},
     "outputs": [],
     "prompt_number": 60
    }
   ],
   "metadata": {}
  }
 ]
}