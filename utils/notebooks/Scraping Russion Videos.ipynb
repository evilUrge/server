{
 "metadata": {
  "name": "Scraping Russion Videos"
 },
 "nbformat": 3,
 "nbformat_minor": 0,
 "worksheets": [
  {
   "cells": [
    {
     "cell_type": "code",
     "collapsed": false,
     "input": [
      "from BeautifulSoup import BeautifulSoup\n",
      "from requests import request\n",
      "import re\n",
      "\n",
      "re_khan_vid = re.compile(\"v=(\\S+)\\s*\\)\")\n",
      "\n",
      "url = \"https://ru.khanacademy.org/\"\n",
      "\n",
      "res = request(\"GET\", url)\n",
      "\n",
      "bs = BeautifulSoup(res.text)"
     ],
     "language": "python",
     "metadata": {},
     "outputs": [],
     "prompt_number": 2
    },
    {
     "cell_type": "code",
     "collapsed": false,
     "input": [
      "vids = bs.findAll(\"a\", attrs={'href':re.compile(\"/video.*\")})"
     ],
     "language": "python",
     "metadata": {},
     "outputs": [],
     "prompt_number": 5
    },
    {
     "cell_type": "code",
     "collapsed": false,
     "input": [
      "def get_row(vid):\n",
      "    name = vid.text\n",
      "    title = vid['title']\n",
      "    youtube_id = vid['href'].split(\"=\")[-1]\n",
      "    m = re_khan_vid.search(title)\n",
      "    youtube_id_en = m.group(1) if m else \"\"\n",
      "    return name, title, youtube_id, youtube_id_en"
     ],
     "language": "python",
     "metadata": {},
     "outputs": [],
     "prompt_number": 33
    },
    {
     "cell_type": "code",
     "collapsed": false,
     "input": [
      "f = file(\"russion_videos.pkl\", \"w\")"
     ],
     "language": "python",
     "metadata": {},
     "outputs": [],
     "prompt_number": 35
    },
    {
     "cell_type": "code",
     "collapsed": false,
     "input": [
      "import pickle"
     ],
     "language": "python",
     "metadata": {},
     "outputs": [],
     "prompt_number": 36
    },
    {
     "cell_type": "code",
     "collapsed": false,
     "input": [
      "pickle.dump(map(get_row,vids), f)\n"
     ],
     "language": "python",
     "metadata": {},
     "outputs": [],
     "prompt_number": 37
    },
    {
     "cell_type": "code",
     "collapsed": false,
     "input": [
      "f = file(\"russion_videos.pkl\",)\n"
     ],
     "language": "python",
     "metadata": {},
     "outputs": [],
     "prompt_number": 39
    },
    {
     "cell_type": "code",
     "collapsed": false,
     "input": [
      "vids = pickle.load(f)"
     ],
     "language": "python",
     "metadata": {},
     "outputs": [],
     "prompt_number": 40
    },
    {
     "cell_type": "code",
     "collapsed": false,
     "input": [
      "import csv\n",
      "w=csv.writer(file(\"russion_videos.csv\", \"w\"), dialect=\"excel-tab\")\n",
      "w.writerow(\"name title youtube_id youtube_id_en\".split())\n",
      "w.writerows(tuple(i.encode(\"utf8\") for i in row) for row in vids)"
     ],
     "language": "python",
     "metadata": {},
     "outputs": [],
     "prompt_number": 69
    }
   ],
   "metadata": {}
  }
 ]
}