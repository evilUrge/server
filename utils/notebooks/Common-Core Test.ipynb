{
 "metadata": {
  "name": ""
 },
 "nbformat": 3,
 "nbformat_minor": 0,
 "worksheets": [
  {
   "cells": [
    {
     "cell_type": "code",
     "collapsed": false,
     "input": [
      "from mining import init_remote_api, batch_iter\n",
      "init_remote_api(\"hebkhan\")\n",
      "\n",
      "from google.appengine.ext import db\n",
      "import models\n",
      "\n",
      "\n",
      "\n"
     ],
     "language": "python",
     "metadata": {},
     "outputs": [
      {
       "output_type": "stream",
       "stream": "stderr",
       "text": [
        "WARNING:root:webapp2_extras.local is not available so webapp2 won't be thread-safe!\n"
       ]
      }
     ],
     "prompt_number": 81
    },
    {
     "cell_type": "code",
     "collapsed": false,
     "input": [
      "import requests\n",
      "import cStringIO as StringIO\n",
      "remap_doc_id = \"0Ap8djBdeiIG7dC00cl9uSU9PSWJCRnRuMkZLaWhvVHc\"\n",
      "fetch = requests.get"
     ],
     "language": "python",
     "metadata": {},
     "outputs": [],
     "prompt_number": 44
    },
    {
     "cell_type": "code",
     "collapsed": false,
     "input": [
      "    try:\n",
      "        # gid=8 for second worksheet\n",
      "        url = url_fmt % (remap_doc_id, 8)\n",
      "        result = fetch(url)\n",
      "    except Exception, e:\n",
      "        raise Exception(\"%s (%s)\" % (e, url))\n",
      "\n",
      "    logging.info(\"Loading domains\")\n",
      "    reader = csv.reader(StringIO.StringIO(result.content))\n",
      "    headerline = reader.next()\n",
      "    domains = {}\n",
      "    Domain = namedtuple(\"Domain\", headerline)\n",
      "    for line in reader:\n",
      "        if not line[0]:\n",
      "            break\n",
      "        domain = Domain(*line)\n",
      "        data = dict(domain._asdict())\n",
      "        domains[domain.code] = data\n",
      "        logging.info(\"  %(code)s - %(name)s\", data)"
     ],
     "language": "python",
     "metadata": {},
     "outputs": [],
     "prompt_number": 62
    },
    {
     "cell_type": "code",
     "collapsed": false,
     "input": [
      "    try:\n",
      "        # gid=7 for first worksheet\n",
      "        url = url_fmt % (remap_doc_id, 9)\n",
      "        result = fetch(url)\n",
      "    except Exception, e:\n",
      "        raise Exception(\"%s (%s)\" % (e, url))\n",
      "\n",
      "    logging.info(\"Loading common core map\")\n",
      "    reader = csv.reader(StringIO.StringIO(result.content))\n",
      "    headerline = reader.next()\n",
      "    Row = namedtuple(\"Row\", headerline)\n",
      "\n",
      "    cc_standards = {}\n",
      "\n",
      "    for line in reader:\n",
      "        row = Row(*line)\n",
      "        if not row.standard:\n",
      "            break\n",
      "\n",
      "        try:\n",
      "            cc = cc_standards[row.standard]\n",
      "        except KeyError:\n",
      "            cc = {}\n",
      "            cc[\"standard\"] = row.standard\n",
      "            cc[\"grade\"], cc[\"domain_code\"], cc[\"level\"] = row.standard.split(\".\",2)\n",
      "            cc[\"domain\"] = domains[cc[\"domain_code\"]]['name'].decode(\"utf8\")\n",
      "            cc[\"cc_cluster\"] = row.cluster.decode(\"utf8\")\n",
      "            cc[\"cc_description\"] = row.description.decode(\"utf8\")\n",
      "            cc[\"videos\"] = set()\n",
      "            cc[\"exercises\"] = set()\n",
      "            if cc[\"grade\"] not in \"12345678\":\n",
      "                cc[\"grade\"] = \"9-12\"\n",
      "            \n",
      "            cc_standards[row.standard] = cc\n",
      "\n",
      "        if row.exercise_name:\n",
      "            cc['exercises'].add(row.exercise_name)\n",
      "\n",
      "        if row.youtube_id:\n",
      "            cc['videos'].add(row.youtube_id)\n"
     ],
     "language": "python",
     "metadata": {},
     "outputs": [],
     "prompt_number": 112
    },
    {
     "cell_type": "code",
     "collapsed": false,
     "input": [
      "cc_list = []\n",
      "for standard, cc in cc_standards.iteritems():\n",
      "    break\n",
      "videos, exercises = cc.pop(\"videos\"), cc.pop(\"exercises\")\n",
      "cc = CommonCoreMap(**cc)\n",
      "map(cc.update_exercise, exercises)\n",
      "map(cc.update_video, videos)\n",
      "cc_list.append(cc)"
     ],
     "language": "python",
     "metadata": {},
     "outputs": [],
     "prompt_number": 116
    },
    {
     "cell_type": "code",
     "collapsed": false,
     "input": [
      "x=CommonCoreMap.all(keys_only=True).fetch(limit=500)"
     ],
     "language": "python",
     "metadata": {},
     "outputs": [],
     "prompt_number": 129
    },
    {
     "cell_type": "code",
     "collapsed": false,
     "input": [
      "len(x)"
     ],
     "language": "python",
     "metadata": {},
     "outputs": [
      {
       "metadata": {},
       "output_type": "pyout",
       "prompt_number": 130,
       "text": [
        "1"
       ]
      }
     ],
     "prompt_number": 130
    },
    {
     "cell_type": "code",
     "collapsed": false,
     "input": [],
     "language": "python",
     "metadata": {},
     "outputs": [],
     "prompt_number": 124
    }
   ],
   "metadata": {}
  }
 ]
}